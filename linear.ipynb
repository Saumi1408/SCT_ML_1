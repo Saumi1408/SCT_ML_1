{
 "cells": [
  {
   "cell_type": "code",
   "execution_count": null,
   "id": "ccf29fbe",
   "metadata": {
    "vscode": {
     "languageId": "plaintext"
    }
   },
   "outputs": [],
   "source": [
    "import pandas as pd\n",
    "from sklearn.model_selection import train_test_split\n",
    "from sklearn.linear_model import LinearRegression\n",
    "from sklearn.metrics import mean_squared_error\n",
    "\n",
    "# Load the data\n",
    "df = pd.read_csv(\"/mnt/data/train.csv\")\n",
    "\n",
    "# Select relevant columns\n",
    "X = df[['GrLivArea', 'BedroomAbvGr', 'FullBath']]\n",
    "y = df['SalePrice']\n",
    "\n",
    "# Split into training and validation\n",
    "X_train, X_val, y_train, y_val = train_test_split(X, y, test_size=0.2, random_state=42)\n",
    "\n",
    "# Train the model\n",
    "model = LinearRegression()\n",
    "model.fit(X_train, y_train)\n",
    "\n",
    "# Predict and evaluate\n",
    "y_pred = model.predict(X_val)\n",
    "mse = mean_squared_error(y_val, y_pred)\n",
    "print(\"Mean Squared Error:\", mse)\n",
    "\n",
    "# Example prediction\n",
    "example = [[2500, 4, 3]]\n",
    "predicted_price = model.predict(example)\n",
    "print(f\"Predicted price for 2500 sqft, 4 bed, 3 bath: ${predicted_price[0]:.2f}\")\n"
   ]
  }
 ],
 "metadata": {
  "language_info": {
   "name": "python"
  }
 },
 "nbformat": 4,
 "nbformat_minor": 5
}
